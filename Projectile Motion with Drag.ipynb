{
 "cells": [
  {
   "cell_type": "code",
   "execution_count": 1,
   "metadata": {},
   "outputs": [
    {
     "data": {
      "application/vnd.jupyter.widget-view+json": {
       "model_id": "49e4b66fff134badbfc0bd5bcb626ca8",
       "version_major": 2,
       "version_minor": 0
      },
      "text/plain": [
       "VBox(children=(interactive(children=(BoundedFloatText(value=0.0, description='\\\\(\\\\frac{1}{2}C_dA\\\\rho\\\\)', st…"
      ]
     },
     "metadata": {},
     "output_type": "display_data"
    }
   ],
   "source": [
    "from ipywidgets import interact, widgets, Label\n",
    "import nbinteract as nbi\n",
    "import numpy as np\n",
    "\n",
    "class trajectory(object):\n",
    "    def __init__(self):\n",
    "        self.xpts = np.arange(0)\n",
    "        self.ypts = np.arange(0) \n",
    "        \n",
    "    def xvals(self, coef, m, wind, angle, velocity):\n",
    "        '''\n",
    "        DESCRIPTION:\n",
    "        Calculates the x- and y- coordinates for a trajectory through the air\n",
    "        under the influences of gravity, air resistance, and horizontal wind.\n",
    "        \n",
    "        PARAMETERS:\n",
    "        coef -- (float) A constant representing the characterstics of the\n",
    "                        projectile and the fluid through which it travels.\n",
    "        m -- (float) Mass in [kg].\n",
    "        wind -- (float) Horizontal wind velocity relative to ground [m/s].\n",
    "        angle -- (float) The launch angle in [degrees].\n",
    "        velocity -- (float) Launch speed in [m/s].\n",
    "        '''\n",
    "        self.xpts = np.arange(0)\n",
    "        self.ypts = np.arange(0) \n",
    "        dt = 0.1\n",
    "        g = -9.8\n",
    "        x = 0\n",
    "        y = 0\n",
    "        v = velocity\n",
    "        vx = v * np.cos(np.radians(angle))\n",
    "        vy = v * np.sin(np.radians(angle))\n",
    "        v2 = (vx - wind) ** 2 + vy ** 2\n",
    "        a = coef * v2 / m\n",
    "        # use angle relative to wind to find a-components.\n",
    "        angle = np.arctan(vy / np.abs(vx - wind))\n",
    "        ax = a * np.cos(angle) * (-(vx - wind) / np.abs(vx - wind + 1e-8))\n",
    "        ay = a * np.sin(angle) * (-vy / np.abs(vy)) + g\n",
    "\n",
    "        while True:\n",
    "            # This is not the true angle, but rather the angle relative to the wind.\n",
    "            angle = np.arctan(vy / np.abs(vx - wind))\n",
    "            v2 = (vx - wind) ** 2 + vy ** 2\n",
    "            a = coef * v2 / m\n",
    "            ax = a * np.cos(angle) * (-(vx - wind) / np.abs(vx - wind + 1e-8))\n",
    "            ay = a * np.sin(angle) * (-vy / np.abs(vy + 1e-8)) + g\n",
    "            vx += ax * dt\n",
    "            vy += ay * dt         \n",
    "#             x += vx * dt + 0.5 * ax * dt ** 2\n",
    "#             y += vy * dt + 0.5 * ay * dt ** 2\n",
    "            x += vx*dt\n",
    "            y += vy*dt\n",
    "\n",
    "            if (y <= 0):\n",
    "                break\n",
    "            else:\n",
    "                self.xpts = np.append(self.xpts, x)\n",
    "                self.ypts = np.append(self.ypts, y)\n",
    "\n",
    "        return self.xpts\n",
    "    \n",
    "    def yvals(self, foo):\n",
    "        return self.ypts\n",
    "    \n",
    "    \n",
    "a = trajectory()\n",
    "coefficient = widgets.BoundedFloatText(value=0, min=0, step=0.0001, description=r'\\(\\frac{1}{2}C_dA\\rho\\)')\n",
    "mass = widgets.BoundedFloatText(value=1, min=0.000001, description='mass [kg]')\n",
    "xmax = 500\n",
    "ymax = 500\n",
    "opts = {'title': 'Projectile Trajectory',\n",
    "        'xlim': (0,xmax),\n",
    "        'ylim': (0,ymax),\n",
    "        'xlabel': 'Horizontal Displacement [m]',\n",
    "        'ylabel': 'Vertical Displacement [m]'}\n",
    "\n",
    "nbi.line(a.xvals, a.yvals, coef=coefficient, m=mass, wind=(-25,25),\n",
    "         angle=(1,89), velocity=(1,100), options=opts)"
   ]
  },
  {
   "cell_type": "code",
   "execution_count": null,
   "metadata": {},
   "outputs": [],
   "source": []
  }
 ],
 "metadata": {
  "kernelspec": {
   "display_name": "Python 3",
   "language": "python",
   "name": "python3"
  },
  "language_info": {
   "codemirror_mode": {
    "name": "ipython",
    "version": 3
   },
   "file_extension": ".py",
   "mimetype": "text/x-python",
   "name": "python",
   "nbconvert_exporter": "python",
   "pygments_lexer": "ipython3",
   "version": "3.7.6"
  }
 },
 "nbformat": 4,
 "nbformat_minor": 4
}
